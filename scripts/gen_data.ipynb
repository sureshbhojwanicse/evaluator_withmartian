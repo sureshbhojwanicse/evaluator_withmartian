{
 "cells": [
  {
   "cell_type": "code",
   "execution_count": 4,
   "metadata": {},
   "outputs": [],
   "source": [
    "import json\n",
    "import sys\n",
    "\n",
    "def append_to_json_file(file_path, data):\n",
    "    try:\n",
    "        with open(file_path, 'r') as json_file:\n",
    "            existing_data = json.load(json_file)\n",
    "    except (FileNotFoundError, json.JSONDecodeError):\n",
    "        existing_data = []\n",
    "        \n",
    "    existing_data.append(data)\n",
    "    \n",
    "    with open(file_path, 'w') as json_file:\n",
    "        json.dump(existing_data, json_file, indent=1, ensure_ascii=False)\n",
    "\n",
    "def input_and_append_to_json(file_path, n):\n",
    "    for i in range(n):\n",
    "        print(f\"Input dictionary {i+1}:\", flush=True)\n",
    "        try:\n",
    "            dictionary_str = input(\"> \")\n",
    "            data = json.loads(dictionary_str)\n",
    "            append_to_json_file(file_path, data)\n",
    "            print(\"Data appended successfully!\", flush=True)\n",
    "        except json.JSONDecodeError:\n",
    "            print(\"Invalid JSON format! Please try again.\")"
   ]
  },
  {
   "cell_type": "code",
   "execution_count": 5,
   "metadata": {},
   "outputs": [
    {
     "name": "stdout",
     "output_type": "stream",
     "text": [
      "Input dictionary 1:\n",
      "Data appended successfully!\n",
      "Input dictionary 2:\n",
      "Data appended successfully!\n",
      "Input dictionary 3:\n",
      "Data appended successfully!\n",
      "Input dictionary 4:\n",
      "Data appended successfully!\n",
      "Input dictionary 5:\n",
      "Data appended successfully!\n",
      "Input dictionary 6:\n",
      "Data appended successfully!\n",
      "Input dictionary 7:\n",
      "Data appended successfully!\n",
      "Input dictionary 8:\n",
      "Data appended successfully!\n",
      "Input dictionary 9:\n",
      "Data appended successfully!\n",
      "Input dictionary 10:\n",
      "Data appended successfully!\n",
      "Input dictionary 11:\n",
      "Data appended successfully!\n",
      "Input dictionary 12:\n",
      "Data appended successfully!\n",
      "Input dictionary 13:\n",
      "Data appended successfully!\n",
      "Input dictionary 14:\n",
      "Data appended successfully!\n",
      "Input dictionary 15:\n",
      "Data appended successfully!\n",
      "Input dictionary 16:\n",
      "Data appended successfully!\n",
      "Input dictionary 17:\n",
      "Data appended successfully!\n",
      "Input dictionary 18:\n",
      "Data appended successfully!\n",
      "Input dictionary 19:\n",
      "Data appended successfully!\n",
      "Input dictionary 20:\n",
      "Data appended successfully!\n",
      "Input dictionary 21:\n",
      "Data appended successfully!\n",
      "Input dictionary 22:\n",
      "Data appended successfully!\n",
      "Input dictionary 23:\n",
      "Data appended successfully!\n",
      "Input dictionary 24:\n",
      "Data appended successfully!\n",
      "Input dictionary 25:\n",
      "Data appended successfully!\n"
     ]
    }
   ],
   "source": [
    "import os\n",
    "from pathlib import Path\n",
    "path = Path(\"../data/mercor_mle/\")\n",
    "path.mkdir(exist_ok=True)\n",
    "file_path = path / \"data.json\"\n",
    "input_and_append_to_json(file_path, 25)"
   ]
  },
  {
   "cell_type": "code",
   "execution_count": 4,
   "metadata": {},
   "outputs": [
    {
     "name": "stdout",
     "output_type": "stream",
     "text": [
      "configs\t\t    experiments     gen_data.ipynb    gen_questions.py\n",
      "dump_martian_db.py  gen_answers.py  gen_judgments.py  __pycache__\n"
     ]
    }
   ],
   "source": [
    "!ls"
   ]
  },
  {
   "cell_type": "code",
   "execution_count": 2,
   "metadata": {},
   "outputs": [
    {
     "name": "stdout",
     "output_type": "stream",
     "text": [
      "/home/anon/freelancing/mercor_mle/llm-judge-interview-2/llm-judge-interview-2/data\n"
     ]
    }
   ],
   "source": [
    "cd ../data"
   ]
  }
 ],
 "metadata": {
  "kernelspec": {
   "display_name": "dev",
   "language": "python",
   "name": "python3"
  },
  "language_info": {
   "codemirror_mode": {
    "name": "ipython",
    "version": 3
   },
   "file_extension": ".py",
   "mimetype": "text/x-python",
   "name": "python",
   "nbconvert_exporter": "python",
   "pygments_lexer": "ipython3",
   "version": "3.11.5"
  }
 },
 "nbformat": 4,
 "nbformat_minor": 2
}
